{
 "cells": [
  {
   "cell_type": "code",
   "execution_count": null,
   "metadata": {},
   "outputs": [],
   "source": [
    "import time\n",
    "import csv  # Import the csv module\n",
    "from selenium import webdriver\n",
    "from bs4 import BeautifulSoup\n",
    "\n",
    "# Set up the Selenium driver\n",
    "driver = webdriver.Chrome()  # You need to have the Chrome driver installed\n",
    "\n",
    "url = \"https://www.nike.com/gb/w/clothing-3rauvz5e1x6z6ymx6znik1\"\n",
    "driver.get(url)\n",
    "\n",
    "# Scroll to the bottom of the page to trigger content loading\n",
    "scroll_pause_time = 2\n",
    "scroll_height = 0\n",
    "while True:\n",
    "    driver.execute_script(f\"window.scrollTo(0, {scroll_height});\")\n",
    "    time.sleep(scroll_pause_time)\n",
    "    scroll_height += 1000  # Adjust the value based on your preference and page behavior\n",
    "\n",
    "    # Break the loop when you've scrolled to the end of the page\n",
    "    if scroll_height >= driver.execute_script(\"return Math.max( document.body.scrollHeight, document.body.offsetHeight, document.documentElement.clientHeight, document.documentElement.scrollHeight, document.documentElement.offsetHeight );\"):\n",
    "        break\n",
    "\n",
    "# Get the updated page source after scrolling\n",
    "html_content = driver.page_source\n",
    "driver.quit()\n",
    "\n",
    "# Parse the updated HTML content using BeautifulSoup\n",
    "soup = BeautifulSoup(html_content, \"html.parser\")\n",
    "\n",
    "# Extract clothing details\n",
    "clothing = []\n",
    "for item in soup.find_all(\"div\", class_=\"product-card__body\"):\n",
    "    product_name = item.find(\"div\", class_=\"product-card__titles\").text\n",
    "    count_colour = item.find(\"div\", class_=\"product-card__count-item\").text\n",
    "    price = item.find(\"div\", class_=\"product-card__price\").text\n",
    "    gender = item.find(\"div\", class_=\"product-card__subtitle\").text\n",
    " \n",
    "    print(product_name,count_colour, price, gender)\n",
    "    \n",
    "    clothing.append([product_name, count_colour, price, gender])\n",
    "\n",
    "\n",
    " # Write the extracted data to a CSV file\n",
    "with open(\"Nike_clothing.csv\", \"w\", newline=\"\", encoding=\"utf-8\") as csvfile:\n",
    "    csvwriter = csv.writer(csvfile)\n",
    "    csvwriter.writerow([\"Product_name\", \"Count_Colour\", \"Price\", \"Gender\"])\n",
    "    csvwriter.writerows(clothing)\n",
    "\n",
    "print(\"Data extracted and saved to Nike_clothing.csv\")\n",
    "\n",
    "\n"
   ]
  }
 ],
 "metadata": {
  "kernelspec": {
   "display_name": "Python 3",
   "language": "python",
   "name": "python3"
  },
  "language_info": {
   "codemirror_mode": {
    "name": "ipython",
    "version": 3
   },
   "file_extension": ".py",
   "mimetype": "text/x-python",
   "name": "python",
   "nbconvert_exporter": "python",
   "pygments_lexer": "ipython3",
   "version": "3.11.4"
  },
  "orig_nbformat": 4
 },
 "nbformat": 4,
 "nbformat_minor": 2
}
