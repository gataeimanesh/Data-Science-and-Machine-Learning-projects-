{
 "cells": [
  {
   "cell_type": "code",
   "execution_count": 2,
   "id": "43e7e396",
   "metadata": {},
   "outputs": [
    {
     "name": "stdout",
     "output_type": "stream",
     "text": [
      "      Unnamed: 0                                              title  \\\n",
      "0           8476                       You Can Smell Hillary’s Fear   \n",
      "1          10294  Watch The Exact Moment Paul Ryan Committed Pol...   \n",
      "2           3608        Kerry to go to Paris in gesture of sympathy   \n",
      "3          10142  Bernie supporters on Twitter erupt in anger ag...   \n",
      "4            875   The Battle of New York: Why This Primary Matters   \n",
      "...          ...                                                ...   \n",
      "6330        4490  State Department says it can't find emails fro...   \n",
      "6331        8062  The ‘P’ in PBS Should Stand for ‘Plutocratic’ ...   \n",
      "6332        8622  Anti-Trump Protesters Are Tools of the Oligarc...   \n",
      "6333        4021  In Ethiopia, Obama seeks progress on peace, se...   \n",
      "6334        4330  Jeb Bush Is Suddenly Attacking Trump. Here's W...   \n",
      "\n",
      "                                                   text label  \n",
      "0     Daniel Greenfield, a Shillman Journalism Fello...  FAKE  \n",
      "1     Google Pinterest Digg Linkedin Reddit Stumbleu...  FAKE  \n",
      "2     U.S. Secretary of State John F. Kerry said Mon...  REAL  \n",
      "3     — Kaydee King (@KaydeeKing) November 9, 2016 T...  FAKE  \n",
      "4     It's primary day in New York and front-runners...  REAL  \n",
      "...                                                 ...   ...  \n",
      "6330  The State Department told the Republican Natio...  REAL  \n",
      "6331  The ‘P’ in PBS Should Stand for ‘Plutocratic’ ...  FAKE  \n",
      "6332   Anti-Trump Protesters Are Tools of the Oligar...  FAKE  \n",
      "6333  ADDIS ABABA, Ethiopia —President Obama convene...  REAL  \n",
      "6334  Jeb Bush Is Suddenly Attacking Trump. Here's W...  REAL  \n",
      "\n",
      "[6335 rows x 4 columns]\n",
      "Accuracy:  92.58 %\n",
      "Confusion Matrix for PassiveAgressiveClassifier\n",
      "[[587  51]\n",
      " [ 43 586]]\n"
     ]
    }
   ],
   "source": [
    "#import required modules and libraries \n",
    "import numpy as np\n",
    "import pandas as pd\n",
    "import matplotlib.pyplot as plt\n",
    "import matplotlib\n",
    "import seaborn as sns\n",
    "import itertools\n",
    "from sklearn.model_selection import train_test_split\n",
    "from sklearn.feature_extraction.text import TfidfVectorizer\n",
    "from sklearn.linear_model import PassiveAggressiveClassifier\n",
    "from sklearn.metrics import accuracy_score, confusion_matrix\n",
    "\n",
    "#loading data, processing, check for duplication and missing data\n",
    "df = pd.read_csv(\"/Users/gatae/OneDrive/Desktop/news.csv\")\n",
    "\n",
    "print(df)\n",
    "df.head()\n",
    "lb=df.label\n",
    "lb.head()\n",
    "df.drop_duplicates(inplace= True)\n",
    "df.shape\n",
    "df.isnull().sum()\n",
    "\n",
    "#split the data into train and test\n",
    "x_train,x_test,y_train,y_test=train_test_split(df['text'], lb, test_size=0.2, random_state=7)\n",
    "\n",
    "#initializing the Vectorizer\n",
    "tfidf_vectorizer=TfidfVectorizer(stop_words='english', max_df=0.7)\n",
    "tfidf_train=tfidf_vectorizer.fit_transform(x_train) \n",
    "tfidf_test=tfidf_vectorizer.transform(x_test)\n",
    " \n",
    "#initializing PassiveAggressiveClassifier\n",
    "pac=PassiveAggressiveClassifier(max_iter=50)\n",
    "pac.fit(tfidf_train,y_train)\n",
    "\n",
    "#predicting on the test and calculate the accuracy\n",
    "y_pred=pac.predict(tfidf_test)\n",
    "score=accuracy_score(y_test,y_pred)\n",
    " \n",
    "print(\"Accuracy: \",round(score*100,2),\"%\")\n",
    "\n",
    "#Building the confusion matrix\n",
    "pac_con=confusion_matrix(y_test,y_pred, labels=['FAKE','REAL'])\n",
    "print(\"Confusion Matrix for PassiveAgressiveClassifier\",end=\"\\n\")\n",
    "print(pac_con)\n",
    "\n",
    "\n",
    "\n"
   ]
  },
  {
   "cell_type": "code",
   "execution_count": 5,
   "id": "70defbf7",
   "metadata": {},
   "outputs": [
    {
     "data": {
      "image/png": "[encoded data removed]",
      "text/plain": [
       "<Figure size 640x480 with 2 Axes>"
      ]
     },
     "metadata": {},
     "output_type": "display_data"
    }
   ],
   "source": [
    "#visualization of confusion matrix\n",
    "ax = sns.heatmap(confusion_matrix(y_test,y_pred), annot=True, fmt=\"d\")\n",
    "ax.set(xlabel='Prediction', ylabel='Actual')\n",
    "plt.show()"
   ]
  },
  {
   "cell_type": "code",
   "execution_count": 6,
   "id": "5140e7e9",
   "metadata": {},
   "outputs": [
    {
     "name": "stdout",
     "output_type": "stream",
     "text": [
      "              precision    recall  f1-score   support\n",
      "\n",
      "        FAKE       0.93      0.92      0.93       638\n",
      "        REAL       0.92      0.93      0.93       629\n",
      "\n",
      "    accuracy                           0.93      1267\n",
      "   macro avg       0.93      0.93      0.93      1267\n",
      "weighted avg       0.93      0.93      0.93      1267\n",
      "\n"
     ]
    }
   ],
   "source": [
    "#Building the Classification report from confusion matrix\n",
    "from sklearn.metrics import accuracy_score, confusion_matrix, classification_report\n",
    "\n",
    "conf_matrix = confusion_matrix(y_test, y_pred, labels=['FAKE', 'REAL'])\n",
    "\n",
    "conf_matrix_table = classification_report(y_test, y_pred, labels=['FAKE', 'REAL'])\n",
    "\n",
    "print(conf_matrix_table)"
   ]
  },
  {
   "cell_type": "code",
   "execution_count": null,
   "id": "418fc8b9",
   "metadata": {},
   "outputs": [],
   "source": []
  }
 ],
 "metadata": {
  "kernelspec": {
   "display_name": "Python 3 (ipykernel)",
   "language": "python",
   "name": "python3"
  },
  "language_info": {
   "codemirror_mode": {
    "name": "ipython",
    "version": 3
   },
   "file_extension": ".py",
   "mimetype": "text/x-python",
   "name": "python",
   "nbconvert_exporter": "python",
   "pygments_lexer": "ipython3",
   "version": "3.9.13"
  }
 },
 "nbformat": 4,
 "nbformat_minor": 5
}
